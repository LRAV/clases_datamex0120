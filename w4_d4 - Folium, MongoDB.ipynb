{
 "cells": [
  {
   "cell_type": "code",
   "execution_count": 1,
   "metadata": {},
   "outputs": [],
   "source": [
    "import pymongo"
   ]
  },
  {
   "cell_type": "code",
   "execution_count": 2,
   "metadata": {},
   "outputs": [],
   "source": [
    "cliente=pymongo.MongoClient()\n",
    "db=cliente.nueva_db"
   ]
  },
  {
   "cell_type": "code",
   "execution_count": 3,
   "metadata": {},
   "outputs": [
    {
     "data": {
      "text/plain": [
       "['admin', 'companies', 'config', 'earthquake', 'geo_attack', 'local']"
      ]
     },
     "execution_count": 3,
     "metadata": {},
     "output_type": "execute_result"
    }
   ],
   "source": [
    "cliente.list_database_names()"
   ]
  },
  {
   "cell_type": "code",
   "execution_count": 4,
   "metadata": {},
   "outputs": [],
   "source": [
    "colec=db.n_coleccion"
   ]
  },
  {
   "cell_type": "code",
   "execution_count": 5,
   "metadata": {},
   "outputs": [
    {
     "data": {
      "text/plain": [
       "[]"
      ]
     },
     "execution_count": 5,
     "metadata": {},
     "output_type": "execute_result"
    }
   ],
   "source": [
    "db.list_collection_names()"
   ]
  },
  {
   "cell_type": "code",
   "execution_count": 6,
   "metadata": {},
   "outputs": [
    {
     "data": {
      "text/plain": [
       "<pymongo.results.InsertOneResult at 0x1061fdc30>"
      ]
     },
     "execution_count": 6,
     "metadata": {},
     "output_type": "execute_result"
    }
   ],
   "source": [
    "n_dict={'nombre':'Juan', 'edad':23}\n",
    "\n",
    "colec.insert_one(n_dict)"
   ]
  },
  {
   "cell_type": "code",
   "execution_count": 7,
   "metadata": {},
   "outputs": [
    {
     "data": {
      "text/plain": [
       "['n_coleccion']"
      ]
     },
     "execution_count": 7,
     "metadata": {},
     "output_type": "execute_result"
    }
   ],
   "source": [
    "db.list_collection_names()"
   ]
  },
  {
   "cell_type": "code",
   "execution_count": 9,
   "metadata": {},
   "outputs": [
    {
     "data": {
      "text/plain": [
       "<pymongo.results.InsertManyResult at 0x1062068c0>"
      ]
     },
     "execution_count": 9,
     "metadata": {},
     "output_type": "execute_result"
    }
   ],
   "source": [
    "colec.insert_many([{'nombre':'Maria', 'edad':34},\n",
    "                   {'nombre':'Pedro', 'edad':23, 'altura':1.8}])"
   ]
  },
  {
   "cell_type": "code",
   "execution_count": 10,
   "metadata": {},
   "outputs": [
    {
     "data": {
      "text/plain": [
       "<pymongo.results.InsertOneResult at 0x106206fa0>"
      ]
     },
     "execution_count": 10,
     "metadata": {},
     "output_type": "execute_result"
    }
   ],
   "source": [
    "colec.insert_one({'_id':0, 'nombre':'Ana', 'edad':31})"
   ]
  },
  {
   "cell_type": "code",
   "execution_count": 12,
   "metadata": {},
   "outputs": [
    {
     "data": {
      "text/plain": [
       "[{'_id': ObjectId('5e33016088d8961f18c425e5'), 'nombre': 'Juan', 'edad': 23},\n",
       " {'_id': ObjectId('5e3301f588d8961f18c425e6'), 'nombre': 'Maria', 'edad': 34},\n",
       " {'_id': ObjectId('5e3301f588d8961f18c425e7'),\n",
       "  'nombre': 'Pedro',\n",
       "  'edad': 23,\n",
       "  'altura': 1.8},\n",
       " {'_id': 0, 'nombre': 'Ana', 'edad': 31}]"
      ]
     },
     "execution_count": 12,
     "metadata": {},
     "output_type": "execute_result"
    }
   ],
   "source": [
    "list(colec.find())"
   ]
  },
  {
   "cell_type": "code",
   "execution_count": 14,
   "metadata": {},
   "outputs": [
    {
     "ename": "DuplicateKeyError",
     "evalue": "E11000 duplicate key error collection: nueva_db.n_coleccion index: _id_ dup key: { _id: 0 }",
     "output_type": "error",
     "traceback": [
      "\u001b[0;31m---------------------------------------------------------------------------\u001b[0m",
      "\u001b[0;31mDuplicateKeyError\u001b[0m                         Traceback (most recent call last)",
      "\u001b[0;32m<ipython-input-14-6467d8168e47>\u001b[0m in \u001b[0;36m<module>\u001b[0;34m\u001b[0m\n\u001b[0;32m----> 1\u001b[0;31m \u001b[0mcolec\u001b[0m\u001b[0;34m.\u001b[0m\u001b[0minsert_one\u001b[0m\u001b[0;34m(\u001b[0m\u001b[0;34m{\u001b[0m\u001b[0;34m'_id'\u001b[0m\u001b[0;34m:\u001b[0m\u001b[0;36m0\u001b[0m\u001b[0;34m,\u001b[0m \u001b[0;34m'nombre'\u001b[0m\u001b[0;34m:\u001b[0m\u001b[0;34m'Pepe'\u001b[0m\u001b[0;34m,\u001b[0m \u001b[0;34m'edad'\u001b[0m\u001b[0;34m:\u001b[0m\u001b[0;36m29\u001b[0m\u001b[0;34m}\u001b[0m\u001b[0;34m)\u001b[0m\u001b[0;34m\u001b[0m\u001b[0;34m\u001b[0m\u001b[0m\n\u001b[0m",
      "\u001b[0;32m~/Library/Python/3.7/lib/python/site-packages/pymongo/collection.py\u001b[0m in \u001b[0;36minsert_one\u001b[0;34m(self, document, bypass_document_validation, session)\u001b[0m\n\u001b[1;32m    696\u001b[0m                          \u001b[0mwrite_concern\u001b[0m\u001b[0;34m=\u001b[0m\u001b[0mwrite_concern\u001b[0m\u001b[0;34m,\u001b[0m\u001b[0;34m\u001b[0m\u001b[0;34m\u001b[0m\u001b[0m\n\u001b[1;32m    697\u001b[0m                          \u001b[0mbypass_doc_val\u001b[0m\u001b[0;34m=\u001b[0m\u001b[0mbypass_document_validation\u001b[0m\u001b[0;34m,\u001b[0m\u001b[0;34m\u001b[0m\u001b[0;34m\u001b[0m\u001b[0m\n\u001b[0;32m--> 698\u001b[0;31m                          session=session),\n\u001b[0m\u001b[1;32m    699\u001b[0m             write_concern.acknowledged)\n\u001b[1;32m    700\u001b[0m \u001b[0;34m\u001b[0m\u001b[0m\n",
      "\u001b[0;32m~/Library/Python/3.7/lib/python/site-packages/pymongo/collection.py\u001b[0m in \u001b[0;36m_insert\u001b[0;34m(self, docs, ordered, check_keys, manipulate, write_concern, op_id, bypass_doc_val, session)\u001b[0m\n\u001b[1;32m    610\u001b[0m             return self._insert_one(\n\u001b[1;32m    611\u001b[0m                 \u001b[0mdocs\u001b[0m\u001b[0;34m,\u001b[0m \u001b[0mordered\u001b[0m\u001b[0;34m,\u001b[0m \u001b[0mcheck_keys\u001b[0m\u001b[0;34m,\u001b[0m \u001b[0mmanipulate\u001b[0m\u001b[0;34m,\u001b[0m \u001b[0mwrite_concern\u001b[0m\u001b[0;34m,\u001b[0m \u001b[0mop_id\u001b[0m\u001b[0;34m,\u001b[0m\u001b[0;34m\u001b[0m\u001b[0;34m\u001b[0m\u001b[0m\n\u001b[0;32m--> 612\u001b[0;31m                 bypass_doc_val, session)\n\u001b[0m\u001b[1;32m    613\u001b[0m \u001b[0;34m\u001b[0m\u001b[0m\n\u001b[1;32m    614\u001b[0m         \u001b[0mids\u001b[0m \u001b[0;34m=\u001b[0m \u001b[0;34m[\u001b[0m\u001b[0;34m]\u001b[0m\u001b[0;34m\u001b[0m\u001b[0;34m\u001b[0m\u001b[0m\n",
      "\u001b[0;32m~/Library/Python/3.7/lib/python/site-packages/pymongo/collection.py\u001b[0m in \u001b[0;36m_insert_one\u001b[0;34m(self, doc, ordered, check_keys, manipulate, write_concern, op_id, bypass_doc_val, session)\u001b[0m\n\u001b[1;32m    598\u001b[0m \u001b[0;34m\u001b[0m\u001b[0m\n\u001b[1;32m    599\u001b[0m         self.__database.client._retryable_write(\n\u001b[0;32m--> 600\u001b[0;31m             acknowledged, _insert_command, session)\n\u001b[0m\u001b[1;32m    601\u001b[0m \u001b[0;34m\u001b[0m\u001b[0m\n\u001b[1;32m    602\u001b[0m         \u001b[0;32mif\u001b[0m \u001b[0;32mnot\u001b[0m \u001b[0misinstance\u001b[0m\u001b[0;34m(\u001b[0m\u001b[0mdoc\u001b[0m\u001b[0;34m,\u001b[0m \u001b[0mRawBSONDocument\u001b[0m\u001b[0;34m)\u001b[0m\u001b[0;34m:\u001b[0m\u001b[0;34m\u001b[0m\u001b[0;34m\u001b[0m\u001b[0m\n",
      "\u001b[0;32m~/Library/Python/3.7/lib/python/site-packages/pymongo/mongo_client.py\u001b[0m in \u001b[0;36m_retryable_write\u001b[0;34m(self, retryable, func, session)\u001b[0m\n\u001b[1;32m   1490\u001b[0m         \u001b[0;34m\"\"\"Internal retryable write helper.\"\"\"\u001b[0m\u001b[0;34m\u001b[0m\u001b[0;34m\u001b[0m\u001b[0m\n\u001b[1;32m   1491\u001b[0m         \u001b[0;32mwith\u001b[0m \u001b[0mself\u001b[0m\u001b[0;34m.\u001b[0m\u001b[0m_tmp_session\u001b[0m\u001b[0;34m(\u001b[0m\u001b[0msession\u001b[0m\u001b[0;34m)\u001b[0m \u001b[0;32mas\u001b[0m \u001b[0ms\u001b[0m\u001b[0;34m:\u001b[0m\u001b[0;34m\u001b[0m\u001b[0;34m\u001b[0m\u001b[0m\n\u001b[0;32m-> 1492\u001b[0;31m             \u001b[0;32mreturn\u001b[0m \u001b[0mself\u001b[0m\u001b[0;34m.\u001b[0m\u001b[0m_retry_with_session\u001b[0m\u001b[0;34m(\u001b[0m\u001b[0mretryable\u001b[0m\u001b[0;34m,\u001b[0m \u001b[0mfunc\u001b[0m\u001b[0;34m,\u001b[0m \u001b[0ms\u001b[0m\u001b[0;34m,\u001b[0m \u001b[0;32mNone\u001b[0m\u001b[0;34m)\u001b[0m\u001b[0;34m\u001b[0m\u001b[0;34m\u001b[0m\u001b[0m\n\u001b[0m\u001b[1;32m   1493\u001b[0m \u001b[0;34m\u001b[0m\u001b[0m\n\u001b[1;32m   1494\u001b[0m     \u001b[0;32mdef\u001b[0m \u001b[0m_reset_server\u001b[0m\u001b[0;34m(\u001b[0m\u001b[0mself\u001b[0m\u001b[0;34m,\u001b[0m \u001b[0maddress\u001b[0m\u001b[0;34m)\u001b[0m\u001b[0;34m:\u001b[0m\u001b[0;34m\u001b[0m\u001b[0;34m\u001b[0m\u001b[0m\n",
      "\u001b[0;32m~/Library/Python/3.7/lib/python/site-packages/pymongo/mongo_client.py\u001b[0m in \u001b[0;36m_retry_with_session\u001b[0;34m(self, retryable, func, session, bulk)\u001b[0m\n\u001b[1;32m   1383\u001b[0m                             \u001b[0;32mraise\u001b[0m \u001b[0mlast_error\u001b[0m\u001b[0;34m\u001b[0m\u001b[0;34m\u001b[0m\u001b[0m\n\u001b[1;32m   1384\u001b[0m                         \u001b[0mretryable\u001b[0m \u001b[0;34m=\u001b[0m \u001b[0;32mFalse\u001b[0m\u001b[0;34m\u001b[0m\u001b[0;34m\u001b[0m\u001b[0m\n\u001b[0;32m-> 1385\u001b[0;31m                     \u001b[0;32mreturn\u001b[0m \u001b[0mfunc\u001b[0m\u001b[0;34m(\u001b[0m\u001b[0msession\u001b[0m\u001b[0;34m,\u001b[0m \u001b[0msock_info\u001b[0m\u001b[0;34m,\u001b[0m \u001b[0mretryable\u001b[0m\u001b[0;34m)\u001b[0m\u001b[0;34m\u001b[0m\u001b[0;34m\u001b[0m\u001b[0m\n\u001b[0m\u001b[1;32m   1386\u001b[0m             \u001b[0;32mexcept\u001b[0m \u001b[0mServerSelectionTimeoutError\u001b[0m\u001b[0;34m:\u001b[0m\u001b[0;34m\u001b[0m\u001b[0;34m\u001b[0m\u001b[0m\n\u001b[1;32m   1387\u001b[0m                 \u001b[0;32mif\u001b[0m \u001b[0mis_retrying\u001b[0m\u001b[0;34m(\u001b[0m\u001b[0;34m)\u001b[0m\u001b[0;34m:\u001b[0m\u001b[0;34m\u001b[0m\u001b[0;34m\u001b[0m\u001b[0m\n",
      "\u001b[0;32m~/Library/Python/3.7/lib/python/site-packages/pymongo/collection.py\u001b[0m in \u001b[0;36m_insert_command\u001b[0;34m(session, sock_info, retryable_write)\u001b[0m\n\u001b[1;32m    595\u001b[0m                 retryable_write=retryable_write)\n\u001b[1;32m    596\u001b[0m \u001b[0;34m\u001b[0m\u001b[0m\n\u001b[0;32m--> 597\u001b[0;31m             \u001b[0m_check_write_command_response\u001b[0m\u001b[0;34m(\u001b[0m\u001b[0mresult\u001b[0m\u001b[0;34m)\u001b[0m\u001b[0;34m\u001b[0m\u001b[0;34m\u001b[0m\u001b[0m\n\u001b[0m\u001b[1;32m    598\u001b[0m \u001b[0;34m\u001b[0m\u001b[0m\n\u001b[1;32m    599\u001b[0m         self.__database.client._retryable_write(\n",
      "\u001b[0;32m~/Library/Python/3.7/lib/python/site-packages/pymongo/helpers.py\u001b[0m in \u001b[0;36m_check_write_command_response\u001b[0;34m(result)\u001b[0m\n\u001b[1;32m    219\u001b[0m     \u001b[0mwrite_errors\u001b[0m \u001b[0;34m=\u001b[0m \u001b[0mresult\u001b[0m\u001b[0;34m.\u001b[0m\u001b[0mget\u001b[0m\u001b[0;34m(\u001b[0m\u001b[0;34m\"writeErrors\"\u001b[0m\u001b[0;34m)\u001b[0m\u001b[0;34m\u001b[0m\u001b[0;34m\u001b[0m\u001b[0m\n\u001b[1;32m    220\u001b[0m     \u001b[0;32mif\u001b[0m \u001b[0mwrite_errors\u001b[0m\u001b[0;34m:\u001b[0m\u001b[0;34m\u001b[0m\u001b[0;34m\u001b[0m\u001b[0m\n\u001b[0;32m--> 221\u001b[0;31m         \u001b[0m_raise_last_write_error\u001b[0m\u001b[0;34m(\u001b[0m\u001b[0mwrite_errors\u001b[0m\u001b[0;34m)\u001b[0m\u001b[0;34m\u001b[0m\u001b[0;34m\u001b[0m\u001b[0m\n\u001b[0m\u001b[1;32m    222\u001b[0m \u001b[0;34m\u001b[0m\u001b[0m\n\u001b[1;32m    223\u001b[0m     \u001b[0merror\u001b[0m \u001b[0;34m=\u001b[0m \u001b[0mresult\u001b[0m\u001b[0;34m.\u001b[0m\u001b[0mget\u001b[0m\u001b[0;34m(\u001b[0m\u001b[0;34m\"writeConcernError\"\u001b[0m\u001b[0;34m)\u001b[0m\u001b[0;34m\u001b[0m\u001b[0;34m\u001b[0m\u001b[0m\n",
      "\u001b[0;32m~/Library/Python/3.7/lib/python/site-packages/pymongo/helpers.py\u001b[0m in \u001b[0;36m_raise_last_write_error\u001b[0;34m(write_errors)\u001b[0m\n\u001b[1;32m    200\u001b[0m     \u001b[0merror\u001b[0m \u001b[0;34m=\u001b[0m \u001b[0mwrite_errors\u001b[0m\u001b[0;34m[\u001b[0m\u001b[0;34m-\u001b[0m\u001b[0;36m1\u001b[0m\u001b[0;34m]\u001b[0m\u001b[0;34m\u001b[0m\u001b[0;34m\u001b[0m\u001b[0m\n\u001b[1;32m    201\u001b[0m     \u001b[0;32mif\u001b[0m \u001b[0merror\u001b[0m\u001b[0;34m.\u001b[0m\u001b[0mget\u001b[0m\u001b[0;34m(\u001b[0m\u001b[0;34m\"code\"\u001b[0m\u001b[0;34m)\u001b[0m \u001b[0;34m==\u001b[0m \u001b[0;36m11000\u001b[0m\u001b[0;34m:\u001b[0m\u001b[0;34m\u001b[0m\u001b[0;34m\u001b[0m\u001b[0m\n\u001b[0;32m--> 202\u001b[0;31m         \u001b[0;32mraise\u001b[0m \u001b[0mDuplicateKeyError\u001b[0m\u001b[0;34m(\u001b[0m\u001b[0merror\u001b[0m\u001b[0;34m.\u001b[0m\u001b[0mget\u001b[0m\u001b[0;34m(\u001b[0m\u001b[0;34m\"errmsg\"\u001b[0m\u001b[0;34m)\u001b[0m\u001b[0;34m,\u001b[0m \u001b[0;36m11000\u001b[0m\u001b[0;34m,\u001b[0m \u001b[0merror\u001b[0m\u001b[0;34m)\u001b[0m\u001b[0;34m\u001b[0m\u001b[0;34m\u001b[0m\u001b[0m\n\u001b[0m\u001b[1;32m    203\u001b[0m     \u001b[0;32mraise\u001b[0m \u001b[0mWriteError\u001b[0m\u001b[0;34m(\u001b[0m\u001b[0merror\u001b[0m\u001b[0;34m.\u001b[0m\u001b[0mget\u001b[0m\u001b[0;34m(\u001b[0m\u001b[0;34m\"errmsg\"\u001b[0m\u001b[0;34m)\u001b[0m\u001b[0;34m,\u001b[0m \u001b[0merror\u001b[0m\u001b[0;34m.\u001b[0m\u001b[0mget\u001b[0m\u001b[0;34m(\u001b[0m\u001b[0;34m\"code\"\u001b[0m\u001b[0;34m)\u001b[0m\u001b[0;34m,\u001b[0m \u001b[0merror\u001b[0m\u001b[0;34m)\u001b[0m\u001b[0;34m\u001b[0m\u001b[0;34m\u001b[0m\u001b[0m\n\u001b[1;32m    204\u001b[0m \u001b[0;34m\u001b[0m\u001b[0m\n",
      "\u001b[0;31mDuplicateKeyError\u001b[0m: E11000 duplicate key error collection: nueva_db.n_coleccion index: _id_ dup key: { _id: 0 }"
     ]
    }
   ],
   "source": [
    "colec.insert_one({'_id':0, 'nombre':'Pepe', 'edad':29})"
   ]
  },
  {
   "cell_type": "code",
   "execution_count": 16,
   "metadata": {},
   "outputs": [
    {
     "data": {
      "text/plain": [
       "<pymongo.results.InsertOneResult at 0x10631b9b0>"
      ]
     },
     "execution_count": 16,
     "metadata": {},
     "output_type": "execute_result"
    }
   ],
   "source": [
    "colec.insert_one({'nombre':'Juan', 'edad':23})"
   ]
  },
  {
   "cell_type": "code",
   "execution_count": 17,
   "metadata": {},
   "outputs": [
    {
     "data": {
      "text/plain": [
       "[{'_id': ObjectId('5e33016088d8961f18c425e5'), 'nombre': 'Juan', 'edad': 23},\n",
       " {'_id': ObjectId('5e3301f588d8961f18c425e6'), 'nombre': 'Maria', 'edad': 34},\n",
       " {'_id': ObjectId('5e3301f588d8961f18c425e7'),\n",
       "  'nombre': 'Pedro',\n",
       "  'edad': 23,\n",
       "  'altura': 1.8},\n",
       " {'_id': 0, 'nombre': 'Ana', 'edad': 31},\n",
       " {'_id': ObjectId('5e3302b888d8961f18c425e8'), 'nombre': 'Juan', 'edad': 23}]"
      ]
     },
     "execution_count": 17,
     "metadata": {},
     "output_type": "execute_result"
    }
   ],
   "source": [
    "list(colec.find())"
   ]
  },
  {
   "cell_type": "code",
   "execution_count": 18,
   "metadata": {},
   "outputs": [
    {
     "data": {
      "text/plain": [
       "[{'_id': ObjectId('5e33016088d8961f18c425e5'), 'nombre': 'Juan', 'edad': 23},\n",
       " {'_id': ObjectId('5e3301f588d8961f18c425e6'), 'nombre': 'Maria', 'edad': 34}]"
      ]
     },
     "execution_count": 18,
     "metadata": {},
     "output_type": "execute_result"
    }
   ],
   "source": [
    "list(colec.find().limit(2))"
   ]
  },
  {
   "cell_type": "code",
   "execution_count": 20,
   "metadata": {},
   "outputs": [
    {
     "data": {
      "text/plain": [
       "[{'_id': ObjectId('5e33016088d8961f18c425e5'), 'nombre': 'Juan', 'edad': 23},\n",
       " {'_id': ObjectId('5e3301f588d8961f18c425e7'),\n",
       "  'nombre': 'Pedro',\n",
       "  'edad': 23,\n",
       "  'altura': 1.8},\n",
       " {'_id': ObjectId('5e3302b888d8961f18c425e8'), 'nombre': 'Juan', 'edad': 23}]"
      ]
     },
     "execution_count": 20,
     "metadata": {},
     "output_type": "execute_result"
    }
   ],
   "source": [
    "list(colec.find({'edad':23}))"
   ]
  },
  {
   "cell_type": "code",
   "execution_count": 21,
   "metadata": {},
   "outputs": [
    {
     "data": {
      "text/plain": [
       "[{'_id': ObjectId('5e33016088d8961f18c425e5'), 'nombre': 'Juan', 'edad': 23},\n",
       " {'_id': ObjectId('5e3301f588d8961f18c425e7'),\n",
       "  'nombre': 'Pedro',\n",
       "  'edad': 23,\n",
       "  'altura': 1.8},\n",
       " {'_id': ObjectId('5e3302b888d8961f18c425e8'), 'nombre': 'Juan', 'edad': 23}]"
      ]
     },
     "execution_count": 21,
     "metadata": {},
     "output_type": "execute_result"
    }
   ],
   "source": [
    "list(colec.find({'edad':{'$lt':30}}))"
   ]
  },
  {
   "cell_type": "code",
   "execution_count": 22,
   "metadata": {},
   "outputs": [
    {
     "data": {
      "text/plain": [
       "[{'_id': ObjectId('5e3301f588d8961f18c425e6'), 'nombre': 'Maria', 'edad': 34},\n",
       " {'_id': 0, 'nombre': 'Ana', 'edad': 31}]"
      ]
     },
     "execution_count": 22,
     "metadata": {},
     "output_type": "execute_result"
    }
   ],
   "source": [
    "list(colec.find({'edad':{'$gte':30}}))"
   ]
  },
  {
   "cell_type": "code",
   "execution_count": 25,
   "metadata": {},
   "outputs": [
    {
     "data": {
      "text/plain": [
       "[{'_id': ObjectId('5e3301f588d8961f18c425e6'), 'nombre': 'Maria', 'edad': 34},\n",
       " {'_id': 0, 'nombre': 'Ana', 'edad': 31},\n",
       " {'_id': ObjectId('5e33016088d8961f18c425e5'), 'nombre': 'Juan', 'edad': 23},\n",
       " {'_id': ObjectId('5e3301f588d8961f18c425e7'),\n",
       "  'nombre': 'Pedro',\n",
       "  'edad': 23,\n",
       "  'altura': 1.8},\n",
       " {'_id': ObjectId('5e3302b888d8961f18c425e8'), 'nombre': 'Juan', 'edad': 23}]"
      ]
     },
     "execution_count": 25,
     "metadata": {},
     "output_type": "execute_result"
    }
   ],
   "source": [
    "list(colec.find().sort('edad', -1))"
   ]
  },
  {
   "cell_type": "code",
   "execution_count": 26,
   "metadata": {},
   "outputs": [
    {
     "data": {
      "text/plain": [
       "<pymongo.results.DeleteResult at 0x106332820>"
      ]
     },
     "execution_count": 26,
     "metadata": {},
     "output_type": "execute_result"
    }
   ],
   "source": [
    "colec.delete_one({'nombre': 'Pedro','edad': 23,'altura': 1.8})"
   ]
  },
  {
   "cell_type": "code",
   "execution_count": 27,
   "metadata": {},
   "outputs": [
    {
     "data": {
      "text/plain": [
       "[{'_id': ObjectId('5e33016088d8961f18c425e5'), 'nombre': 'Juan', 'edad': 23},\n",
       " {'_id': ObjectId('5e3301f588d8961f18c425e6'), 'nombre': 'Maria', 'edad': 34},\n",
       " {'_id': 0, 'nombre': 'Ana', 'edad': 31},\n",
       " {'_id': ObjectId('5e3302b888d8961f18c425e8'), 'nombre': 'Juan', 'edad': 23}]"
      ]
     },
     "execution_count": 27,
     "metadata": {},
     "output_type": "execute_result"
    }
   ],
   "source": [
    "list(colec.find())"
   ]
  },
  {
   "cell_type": "code",
   "execution_count": 28,
   "metadata": {},
   "outputs": [
    {
     "data": {
      "text/plain": [
       "[{'_id': ObjectId('5e33016088d8961f18c425e5'), 'nombre': 'Juan', 'edad': 23},\n",
       " {'_id': ObjectId('5e3301f588d8961f18c425e6'), 'nombre': 'Lolo', 'edad': 34},\n",
       " {'_id': 0, 'nombre': 'Ana', 'edad': 31},\n",
       " {'_id': ObjectId('5e3302b888d8961f18c425e8'), 'nombre': 'Juan', 'edad': 23}]"
      ]
     },
     "execution_count": 28,
     "metadata": {},
     "output_type": "execute_result"
    }
   ],
   "source": [
    "colec.update_one({'nombre':'Maria'}, {'$set':{'nombre':'Lolo'}})\n",
    "list(colec.find())"
   ]
  },
  {
   "cell_type": "code",
   "execution_count": 29,
   "metadata": {},
   "outputs": [],
   "source": [
    "colec.drop()"
   ]
  },
  {
   "cell_type": "code",
   "execution_count": 30,
   "metadata": {},
   "outputs": [
    {
     "data": {
      "text/plain": [
       "[]"
      ]
     },
     "execution_count": 30,
     "metadata": {},
     "output_type": "execute_result"
    }
   ],
   "source": [
    "db.list_collection_names()"
   ]
  },
  {
   "cell_type": "code",
   "execution_count": 31,
   "metadata": {},
   "outputs": [],
   "source": [
    "# geoqueries\n",
    "\n",
    "from pymongo import MongoClient\n",
    "\n",
    "cliente=MongoClient('mongodb://localhost:27017')"
   ]
  },
  {
   "cell_type": "code",
   "execution_count": 32,
   "metadata": {},
   "outputs": [],
   "source": [
    "db=cliente.companies"
   ]
  },
  {
   "cell_type": "code",
   "execution_count": 33,
   "metadata": {},
   "outputs": [],
   "source": [
    "al_menos_1_ofi=db.companies.find({'offices':{'$not':{'$size':0}}},\n",
    "                                 {'name':1, '_id':0, 'offices':1})"
   ]
  },
  {
   "cell_type": "code",
   "execution_count": 34,
   "metadata": {},
   "outputs": [
    {
     "data": {
      "text/html": [
       "<div>\n",
       "<style scoped>\n",
       "    .dataframe tbody tr th:only-of-type {\n",
       "        vertical-align: middle;\n",
       "    }\n",
       "\n",
       "    .dataframe tbody tr th {\n",
       "        vertical-align: top;\n",
       "    }\n",
       "\n",
       "    .dataframe thead th {\n",
       "        text-align: right;\n",
       "    }\n",
       "</style>\n",
       "<table border=\"1\" class=\"dataframe\">\n",
       "  <thead>\n",
       "    <tr style=\"text-align: right;\">\n",
       "      <th></th>\n",
       "      <th>name</th>\n",
       "      <th>offices</th>\n",
       "    </tr>\n",
       "  </thead>\n",
       "  <tbody>\n",
       "    <tr>\n",
       "      <th>0</th>\n",
       "      <td>Wetpaint</td>\n",
       "      <td>[{'description': '', 'address1': '710 - 2nd Av...</td>\n",
       "    </tr>\n",
       "    <tr>\n",
       "      <th>1</th>\n",
       "      <td>AdventNet</td>\n",
       "      <td>[{'description': 'Headquarters', 'address1': '...</td>\n",
       "    </tr>\n",
       "    <tr>\n",
       "      <th>2</th>\n",
       "      <td>Zoho</td>\n",
       "      <td>[{'description': 'Headquarters', 'address1': '...</td>\n",
       "    </tr>\n",
       "    <tr>\n",
       "      <th>3</th>\n",
       "      <td>Digg</td>\n",
       "      <td>[{'description': None, 'address1': '135 Missis...</td>\n",
       "    </tr>\n",
       "    <tr>\n",
       "      <th>4</th>\n",
       "      <td>Facebook</td>\n",
       "      <td>[{'description': 'Headquarters', 'address1': '...</td>\n",
       "    </tr>\n",
       "  </tbody>\n",
       "</table>\n",
       "</div>"
      ],
      "text/plain": [
       "        name                                            offices\n",
       "0   Wetpaint  [{'description': '', 'address1': '710 - 2nd Av...\n",
       "1  AdventNet  [{'description': 'Headquarters', 'address1': '...\n",
       "2       Zoho  [{'description': 'Headquarters', 'address1': '...\n",
       "3       Digg  [{'description': None, 'address1': '135 Missis...\n",
       "4   Facebook  [{'description': 'Headquarters', 'address1': '..."
      ]
     },
     "execution_count": 34,
     "metadata": {},
     "output_type": "execute_result"
    }
   ],
   "source": [
    "import pandas as pd\n",
    "\n",
    "df=pd.DataFrame(al_menos_1_ofi)\n",
    "df.head()"
   ]
  },
  {
   "cell_type": "code",
   "execution_count": 35,
   "metadata": {},
   "outputs": [],
   "source": [
    "df=df.dropna()"
   ]
  },
  {
   "cell_type": "code",
   "execution_count": 36,
   "metadata": {},
   "outputs": [],
   "source": [
    "def get_first(data):\n",
    "    data=data['offices']\n",
    "    \n",
    "    principal=None\n",
    "    \n",
    "    if data[0]['latitude'] and data[0]['longitude']:\n",
    "        principal={'type':'Point',\n",
    "                  'coordinates':[data[0]['longitude'],\n",
    "                                 data[0]['latitude']]}\n",
    "        \n",
    "    return {'totalOffices':len(data),\n",
    "           'lat':data[0]['latitude'],\n",
    "           'lng':data[0]['longitude'],\n",
    "            'oficina_principal':principal}"
   ]
  },
  {
   "cell_type": "code",
   "execution_count": 41,
   "metadata": {},
   "outputs": [],
   "source": [
    "first_office=df[['offices']].apply(get_first, result_type='expand', axis=1)"
   ]
  },
  {
   "cell_type": "code",
   "execution_count": 42,
   "metadata": {},
   "outputs": [
    {
     "data": {
      "text/html": [
       "<div>\n",
       "<style scoped>\n",
       "    .dataframe tbody tr th:only-of-type {\n",
       "        vertical-align: middle;\n",
       "    }\n",
       "\n",
       "    .dataframe tbody tr th {\n",
       "        vertical-align: top;\n",
       "    }\n",
       "\n",
       "    .dataframe thead th {\n",
       "        text-align: right;\n",
       "    }\n",
       "</style>\n",
       "<table border=\"1\" class=\"dataframe\">\n",
       "  <thead>\n",
       "    <tr style=\"text-align: right;\">\n",
       "      <th></th>\n",
       "      <th>totalOffices</th>\n",
       "      <th>lat</th>\n",
       "      <th>lng</th>\n",
       "      <th>oficina_principal</th>\n",
       "    </tr>\n",
       "  </thead>\n",
       "  <tbody>\n",
       "    <tr>\n",
       "      <th>0</th>\n",
       "      <td>2.0</td>\n",
       "      <td>47.603122</td>\n",
       "      <td>-122.333253</td>\n",
       "      <td>{'type': 'Point', 'coordinates': [-122.333253,...</td>\n",
       "    </tr>\n",
       "    <tr>\n",
       "      <th>1</th>\n",
       "      <td>1.0</td>\n",
       "      <td>37.692934</td>\n",
       "      <td>-121.904945</td>\n",
       "      <td>{'type': 'Point', 'coordinates': [-121.904945,...</td>\n",
       "    </tr>\n",
       "    <tr>\n",
       "      <th>2</th>\n",
       "      <td>1.0</td>\n",
       "      <td>37.692934</td>\n",
       "      <td>-121.904945</td>\n",
       "      <td>{'type': 'Point', 'coordinates': [-121.904945,...</td>\n",
       "    </tr>\n",
       "    <tr>\n",
       "      <th>3</th>\n",
       "      <td>1.0</td>\n",
       "      <td>37.764726</td>\n",
       "      <td>-122.394523</td>\n",
       "      <td>{'type': 'Point', 'coordinates': [-122.394523,...</td>\n",
       "    </tr>\n",
       "    <tr>\n",
       "      <th>4</th>\n",
       "      <td>3.0</td>\n",
       "      <td>37.416050</td>\n",
       "      <td>-122.151801</td>\n",
       "      <td>{'type': 'Point', 'coordinates': [-122.151801,...</td>\n",
       "    </tr>\n",
       "    <tr>\n",
       "      <th>...</th>\n",
       "      <td>...</td>\n",
       "      <td>...</td>\n",
       "      <td>...</td>\n",
       "      <td>...</td>\n",
       "    </tr>\n",
       "    <tr>\n",
       "      <th>13739</th>\n",
       "      <td>1.0</td>\n",
       "      <td>47.088219</td>\n",
       "      <td>8.437163</td>\n",
       "      <td>{'type': 'Point', 'coordinates': [8.4371634, 4...</td>\n",
       "    </tr>\n",
       "    <tr>\n",
       "      <th>13740</th>\n",
       "      <td>1.0</td>\n",
       "      <td>NaN</td>\n",
       "      <td>NaN</td>\n",
       "      <td>NaN</td>\n",
       "    </tr>\n",
       "    <tr>\n",
       "      <th>13741</th>\n",
       "      <td>1.0</td>\n",
       "      <td>40.793024</td>\n",
       "      <td>-74.323554</td>\n",
       "      <td>{'type': 'Point', 'coordinates': [-74.3235539,...</td>\n",
       "    </tr>\n",
       "    <tr>\n",
       "      <th>13742</th>\n",
       "      <td>1.0</td>\n",
       "      <td>33.518885</td>\n",
       "      <td>-86.816068</td>\n",
       "      <td>{'type': 'Point', 'coordinates': [-86.816068, ...</td>\n",
       "    </tr>\n",
       "    <tr>\n",
       "      <th>13743</th>\n",
       "      <td>1.0</td>\n",
       "      <td>33.407786</td>\n",
       "      <td>-86.761302</td>\n",
       "      <td>{'type': 'Point', 'coordinates': [-86.7613019,...</td>\n",
       "    </tr>\n",
       "  </tbody>\n",
       "</table>\n",
       "<p>13744 rows × 4 columns</p>\n",
       "</div>"
      ],
      "text/plain": [
       "       totalOffices        lat         lng  \\\n",
       "0               2.0  47.603122 -122.333253   \n",
       "1               1.0  37.692934 -121.904945   \n",
       "2               1.0  37.692934 -121.904945   \n",
       "3               1.0  37.764726 -122.394523   \n",
       "4               3.0  37.416050 -122.151801   \n",
       "...             ...        ...         ...   \n",
       "13739           1.0  47.088219    8.437163   \n",
       "13740           1.0        NaN         NaN   \n",
       "13741           1.0  40.793024  -74.323554   \n",
       "13742           1.0  33.518885  -86.816068   \n",
       "13743           1.0  33.407786  -86.761302   \n",
       "\n",
       "                                       oficina_principal  \n",
       "0      {'type': 'Point', 'coordinates': [-122.333253,...  \n",
       "1      {'type': 'Point', 'coordinates': [-121.904945,...  \n",
       "2      {'type': 'Point', 'coordinates': [-121.904945,...  \n",
       "3      {'type': 'Point', 'coordinates': [-122.394523,...  \n",
       "4      {'type': 'Point', 'coordinates': [-122.151801,...  \n",
       "...                                                  ...  \n",
       "13739  {'type': 'Point', 'coordinates': [8.4371634, 4...  \n",
       "13740                                                NaN  \n",
       "13741  {'type': 'Point', 'coordinates': [-74.3235539,...  \n",
       "13742  {'type': 'Point', 'coordinates': [-86.816068, ...  \n",
       "13743  {'type': 'Point', 'coordinates': [-86.7613019,...  \n",
       "\n",
       "[13744 rows x 4 columns]"
      ]
     },
     "execution_count": 42,
     "metadata": {},
     "output_type": "execute_result"
    }
   ],
   "source": [
    "first_office"
   ]
  },
  {
   "cell_type": "code",
   "execution_count": 43,
   "metadata": {},
   "outputs": [],
   "source": [
    "first_office=first_office.dropna()"
   ]
  },
  {
   "cell_type": "code",
   "execution_count": 44,
   "metadata": {},
   "outputs": [],
   "source": [
    "df_clean=pd.concat([df, first_office], axis=1)[['name', 'lat', 'lng', \n",
    "                                               'oficina_principal', 'totalOffices']]"
   ]
  },
  {
   "cell_type": "code",
   "execution_count": 45,
   "metadata": {},
   "outputs": [
    {
     "data": {
      "text/html": [
       "<div>\n",
       "<style scoped>\n",
       "    .dataframe tbody tr th:only-of-type {\n",
       "        vertical-align: middle;\n",
       "    }\n",
       "\n",
       "    .dataframe tbody tr th {\n",
       "        vertical-align: top;\n",
       "    }\n",
       "\n",
       "    .dataframe thead th {\n",
       "        text-align: right;\n",
       "    }\n",
       "</style>\n",
       "<table border=\"1\" class=\"dataframe\">\n",
       "  <thead>\n",
       "    <tr style=\"text-align: right;\">\n",
       "      <th></th>\n",
       "      <th>name</th>\n",
       "      <th>lat</th>\n",
       "      <th>lng</th>\n",
       "      <th>oficina_principal</th>\n",
       "      <th>totalOffices</th>\n",
       "    </tr>\n",
       "  </thead>\n",
       "  <tbody>\n",
       "    <tr>\n",
       "      <th>0</th>\n",
       "      <td>Wetpaint</td>\n",
       "      <td>47.603122</td>\n",
       "      <td>-122.333253</td>\n",
       "      <td>{'type': 'Point', 'coordinates': [-122.333253,...</td>\n",
       "      <td>2.0</td>\n",
       "    </tr>\n",
       "    <tr>\n",
       "      <th>1</th>\n",
       "      <td>AdventNet</td>\n",
       "      <td>37.692934</td>\n",
       "      <td>-121.904945</td>\n",
       "      <td>{'type': 'Point', 'coordinates': [-121.904945,...</td>\n",
       "      <td>1.0</td>\n",
       "    </tr>\n",
       "    <tr>\n",
       "      <th>2</th>\n",
       "      <td>Zoho</td>\n",
       "      <td>37.692934</td>\n",
       "      <td>-121.904945</td>\n",
       "      <td>{'type': 'Point', 'coordinates': [-121.904945,...</td>\n",
       "      <td>1.0</td>\n",
       "    </tr>\n",
       "    <tr>\n",
       "      <th>3</th>\n",
       "      <td>Digg</td>\n",
       "      <td>37.764726</td>\n",
       "      <td>-122.394523</td>\n",
       "      <td>{'type': 'Point', 'coordinates': [-122.394523,...</td>\n",
       "      <td>1.0</td>\n",
       "    </tr>\n",
       "    <tr>\n",
       "      <th>4</th>\n",
       "      <td>Facebook</td>\n",
       "      <td>37.416050</td>\n",
       "      <td>-122.151801</td>\n",
       "      <td>{'type': 'Point', 'coordinates': [-122.151801,...</td>\n",
       "      <td>3.0</td>\n",
       "    </tr>\n",
       "  </tbody>\n",
       "</table>\n",
       "</div>"
      ],
      "text/plain": [
       "        name        lat         lng  \\\n",
       "0   Wetpaint  47.603122 -122.333253   \n",
       "1  AdventNet  37.692934 -121.904945   \n",
       "2       Zoho  37.692934 -121.904945   \n",
       "3       Digg  37.764726 -122.394523   \n",
       "4   Facebook  37.416050 -122.151801   \n",
       "\n",
       "                                   oficina_principal  totalOffices  \n",
       "0  {'type': 'Point', 'coordinates': [-122.333253,...           2.0  \n",
       "1  {'type': 'Point', 'coordinates': [-121.904945,...           1.0  \n",
       "2  {'type': 'Point', 'coordinates': [-121.904945,...           1.0  \n",
       "3  {'type': 'Point', 'coordinates': [-122.394523,...           1.0  \n",
       "4  {'type': 'Point', 'coordinates': [-122.151801,...           3.0  "
      ]
     },
     "execution_count": 45,
     "metadata": {},
     "output_type": "execute_result"
    }
   ],
   "source": [
    "df_clean.head()"
   ]
  },
  {
   "cell_type": "code",
   "execution_count": 46,
   "metadata": {},
   "outputs": [],
   "source": [
    "df_clean=df_clean.dropna()"
   ]
  },
  {
   "cell_type": "code",
   "execution_count": 47,
   "metadata": {},
   "outputs": [],
   "source": [
    "# df_clean.to_json('data/oficinas.json')"
   ]
  },
  {
   "cell_type": "code",
   "execution_count": 48,
   "metadata": {},
   "outputs": [
    {
     "data": {
      "text/plain": [
       "<pymongo.results.InsertManyResult at 0x11addd910>"
      ]
     },
     "execution_count": 48,
     "metadata": {},
     "output_type": "execute_result"
    }
   ],
   "source": [
    "db.first_office.insert_many(df_clean.to_dict('records'))"
   ]
  },
  {
   "cell_type": "code",
   "execution_count": 49,
   "metadata": {},
   "outputs": [
    {
     "data": {
      "text/plain": [
       "[{'_id': ObjectId('5e330b9e88d8961f18c425ea'),\n",
       "  'name': 'Wetpaint',\n",
       "  'lat': 47.603122,\n",
       "  'lng': -122.333253,\n",
       "  'oficina_principal': {'type': 'Point',\n",
       "   'coordinates': [-122.333253, 47.603122]},\n",
       "  'totalOffices': 2.0},\n",
       " {'_id': ObjectId('5e330b9e88d8961f18c425eb'),\n",
       "  'name': 'AdventNet',\n",
       "  'lat': 37.692934,\n",
       "  'lng': -121.904945,\n",
       "  'oficina_principal': {'type': 'Point',\n",
       "   'coordinates': [-121.904945, 37.692934]},\n",
       "  'totalOffices': 1.0},\n",
       " {'_id': ObjectId('5e330b9e88d8961f18c425ec'),\n",
       "  'name': 'Zoho',\n",
       "  'lat': 37.692934,\n",
       "  'lng': -121.904945,\n",
       "  'oficina_principal': {'type': 'Point',\n",
       "   'coordinates': [-121.904945, 37.692934]},\n",
       "  'totalOffices': 1.0},\n",
       " {'_id': ObjectId('5e330b9e88d8961f18c425ed'),\n",
       "  'name': 'Digg',\n",
       "  'lat': 37.764726,\n",
       "  'lng': -122.394523,\n",
       "  'oficina_principal': {'type': 'Point',\n",
       "   'coordinates': [-122.394523, 37.764726]},\n",
       "  'totalOffices': 1.0},\n",
       " {'_id': ObjectId('5e330b9e88d8961f18c425ee'),\n",
       "  'name': 'Facebook',\n",
       "  'lat': 37.41605,\n",
       "  'lng': -122.151801,\n",
       "  'oficina_principal': {'type': 'Point',\n",
       "   'coordinates': [-122.151801, 37.41605]},\n",
       "  'totalOffices': 3.0}]"
      ]
     },
     "execution_count": 49,
     "metadata": {},
     "output_type": "execute_result"
    }
   ],
   "source": [
    "list(db.first_office.find().limit(5))"
   ]
  },
  {
   "cell_type": "code",
   "execution_count": 50,
   "metadata": {},
   "outputs": [
    {
     "data": {
      "text/plain": [
       "'oficina_principal_2dsphere'"
      ]
     },
     "execution_count": 50,
     "metadata": {},
     "output_type": "execute_result"
    }
   ],
   "source": [
    "# crear index\n",
    "\n",
    "db.first_office.create_index([('oficina_principal', '2dsphere')])"
   ]
  },
  {
   "cell_type": "code",
   "execution_count": 51,
   "metadata": {},
   "outputs": [],
   "source": [
    "def find_near(geopoint, radio=1000):\n",
    "    return db.first_office.find({'oficina_principal':{'$near':{'$geometry':geopoint,\n",
    "                                                     '$maxDistance':radio}}})"
   ]
  },
  {
   "cell_type": "code",
   "execution_count": 52,
   "metadata": {},
   "outputs": [
    {
     "name": "stderr",
     "output_type": "stream",
     "text": [
      "/usr/local/Cellar/ipython/7.8.0/libexec/vendor/lib/python3.7/site-packages/ipykernel_launcher.py:5: DeprecationWarning: count is deprecated. Use Collection.count_documents instead.\n",
      "  \"\"\"\n"
     ]
    },
    {
     "data": {
      "text/plain": [
       "556"
      ]
     },
     "execution_count": 52,
     "metadata": {},
     "output_type": "execute_result"
    }
   ],
   "source": [
    "park_avenue={'type':'Point', 'coordinates':[-73.987308, 40.738935]}\n",
    "radio=10000\n",
    "\n",
    "\n",
    "n_ofi=find_near(park_avenue, radio).count()\n",
    "n_ofi"
   ]
  },
  {
   "cell_type": "code",
   "execution_count": 53,
   "metadata": {},
   "outputs": [
    {
     "name": "stdout",
     "output_type": "stream",
     "text": [
      "La mas cercana es  SpaBooker\n"
     ]
    }
   ],
   "source": [
    "print ('La mas cercana es ', list(find_near(park_avenue, radio).limit(1))[0]['name'])"
   ]
  },
  {
   "cell_type": "code",
   "execution_count": 54,
   "metadata": {},
   "outputs": [
    {
     "data": {
      "text/html": [
       "<div>\n",
       "<style scoped>\n",
       "    .dataframe tbody tr th:only-of-type {\n",
       "        vertical-align: middle;\n",
       "    }\n",
       "\n",
       "    .dataframe tbody tr th {\n",
       "        vertical-align: top;\n",
       "    }\n",
       "\n",
       "    .dataframe thead th {\n",
       "        text-align: right;\n",
       "    }\n",
       "</style>\n",
       "<table border=\"1\" class=\"dataframe\">\n",
       "  <thead>\n",
       "    <tr style=\"text-align: right;\">\n",
       "      <th></th>\n",
       "      <th>_id</th>\n",
       "      <th>name</th>\n",
       "      <th>lat</th>\n",
       "      <th>lng</th>\n",
       "      <th>oficina_principal</th>\n",
       "      <th>totalOffices</th>\n",
       "    </tr>\n",
       "  </thead>\n",
       "  <tbody>\n",
       "    <tr>\n",
       "      <th>0</th>\n",
       "      <td>5e330b9e88d8961f18c443a0</td>\n",
       "      <td>SpaBooker</td>\n",
       "      <td>40.738567</td>\n",
       "      <td>-73.987199</td>\n",
       "      <td>{'type': 'Point', 'coordinates': [-73.987199, ...</td>\n",
       "      <td>1.0</td>\n",
       "    </tr>\n",
       "    <tr>\n",
       "      <th>1</th>\n",
       "      <td>5e330b9e88d8961f18c43178</td>\n",
       "      <td>HealthiNation</td>\n",
       "      <td>40.739341</td>\n",
       "      <td>-73.988357</td>\n",
       "      <td>{'type': 'Point', 'coordinates': [-73.988357, ...</td>\n",
       "      <td>1.0</td>\n",
       "    </tr>\n",
       "    <tr>\n",
       "      <th>2</th>\n",
       "      <td>5e330b9e88d8961f18c42d60</td>\n",
       "      <td>Special Ops Media</td>\n",
       "      <td>40.737721</td>\n",
       "      <td>-73.987725</td>\n",
       "      <td>{'type': 'Point', 'coordinates': [-73.987725, ...</td>\n",
       "      <td>1.0</td>\n",
       "    </tr>\n",
       "    <tr>\n",
       "      <th>3</th>\n",
       "      <td>5e330b9e88d8961f18c449f2</td>\n",
       "      <td>Mashable</td>\n",
       "      <td>40.740154</td>\n",
       "      <td>-73.986742</td>\n",
       "      <td>{'type': 'Point', 'coordinates': [-73.9867417,...</td>\n",
       "      <td>1.0</td>\n",
       "    </tr>\n",
       "    <tr>\n",
       "      <th>4</th>\n",
       "      <td>5e330b9e88d8961f18c43af7</td>\n",
       "      <td>Return Path</td>\n",
       "      <td>40.740207</td>\n",
       "      <td>-73.987002</td>\n",
       "      <td>{'type': 'Point', 'coordinates': [-73.987002, ...</td>\n",
       "      <td>1.0</td>\n",
       "    </tr>\n",
       "    <tr>\n",
       "      <th>...</th>\n",
       "      <td>...</td>\n",
       "      <td>...</td>\n",
       "      <td>...</td>\n",
       "      <td>...</td>\n",
       "      <td>...</td>\n",
       "      <td>...</td>\n",
       "    </tr>\n",
       "    <tr>\n",
       "      <th>551</th>\n",
       "      <td>5e330b9e88d8961f18c43d5b</td>\n",
       "      <td>Dot Com Infoway</td>\n",
       "      <td>40.812933</td>\n",
       "      <td>-73.958633</td>\n",
       "      <td>{'type': 'Point', 'coordinates': [-73.9586329,...</td>\n",
       "      <td>3.0</td>\n",
       "    </tr>\n",
       "    <tr>\n",
       "      <th>552</th>\n",
       "      <td>5e330b9e88d8961f18c440c1</td>\n",
       "      <td>Hyperpot</td>\n",
       "      <td>40.659981</td>\n",
       "      <td>-73.994836</td>\n",
       "      <td>{'type': 'Point', 'coordinates': [-73.9948358,...</td>\n",
       "      <td>1.0</td>\n",
       "    </tr>\n",
       "    <tr>\n",
       "      <th>553</th>\n",
       "      <td>5e330b9e88d8961f18c42e6e</td>\n",
       "      <td>StubOrder</td>\n",
       "      <td>40.660393</td>\n",
       "      <td>-73.957626</td>\n",
       "      <td>{'type': 'Point', 'coordinates': [-73.957626, ...</td>\n",
       "      <td>1.0</td>\n",
       "    </tr>\n",
       "    <tr>\n",
       "      <th>554</th>\n",
       "      <td>5e330b9e88d8961f18c43648</td>\n",
       "      <td>Klatcher</td>\n",
       "      <td>40.822087</td>\n",
       "      <td>-73.950677</td>\n",
       "      <td>{'type': 'Point', 'coordinates': [-73.950677, ...</td>\n",
       "      <td>1.0</td>\n",
       "    </tr>\n",
       "    <tr>\n",
       "      <th>555</th>\n",
       "      <td>5e330b9e88d8961f18c437e8</td>\n",
       "      <td>Klatcher</td>\n",
       "      <td>40.822087</td>\n",
       "      <td>-73.950677</td>\n",
       "      <td>{'type': 'Point', 'coordinates': [-73.950677, ...</td>\n",
       "      <td>1.0</td>\n",
       "    </tr>\n",
       "  </tbody>\n",
       "</table>\n",
       "<p>556 rows × 6 columns</p>\n",
       "</div>"
      ],
      "text/plain": [
       "                          _id               name        lat        lng  \\\n",
       "0    5e330b9e88d8961f18c443a0          SpaBooker  40.738567 -73.987199   \n",
       "1    5e330b9e88d8961f18c43178      HealthiNation  40.739341 -73.988357   \n",
       "2    5e330b9e88d8961f18c42d60  Special Ops Media  40.737721 -73.987725   \n",
       "3    5e330b9e88d8961f18c449f2           Mashable  40.740154 -73.986742   \n",
       "4    5e330b9e88d8961f18c43af7        Return Path  40.740207 -73.987002   \n",
       "..                        ...                ...        ...        ...   \n",
       "551  5e330b9e88d8961f18c43d5b    Dot Com Infoway  40.812933 -73.958633   \n",
       "552  5e330b9e88d8961f18c440c1           Hyperpot  40.659981 -73.994836   \n",
       "553  5e330b9e88d8961f18c42e6e          StubOrder  40.660393 -73.957626   \n",
       "554  5e330b9e88d8961f18c43648           Klatcher  40.822087 -73.950677   \n",
       "555  5e330b9e88d8961f18c437e8           Klatcher  40.822087 -73.950677   \n",
       "\n",
       "                                     oficina_principal  totalOffices  \n",
       "0    {'type': 'Point', 'coordinates': [-73.987199, ...           1.0  \n",
       "1    {'type': 'Point', 'coordinates': [-73.988357, ...           1.0  \n",
       "2    {'type': 'Point', 'coordinates': [-73.987725, ...           1.0  \n",
       "3    {'type': 'Point', 'coordinates': [-73.9867417,...           1.0  \n",
       "4    {'type': 'Point', 'coordinates': [-73.987002, ...           1.0  \n",
       "..                                                 ...           ...  \n",
       "551  {'type': 'Point', 'coordinates': [-73.9586329,...           3.0  \n",
       "552  {'type': 'Point', 'coordinates': [-73.9948358,...           1.0  \n",
       "553  {'type': 'Point', 'coordinates': [-73.957626, ...           1.0  \n",
       "554  {'type': 'Point', 'coordinates': [-73.950677, ...           1.0  \n",
       "555  {'type': 'Point', 'coordinates': [-73.950677, ...           1.0  \n",
       "\n",
       "[556 rows x 6 columns]"
      ]
     },
     "execution_count": 54,
     "metadata": {},
     "output_type": "execute_result"
    }
   ],
   "source": [
    "pd.DataFrame(find_near(park_avenue, radio))"
   ]
  },
  {
   "cell_type": "code",
   "execution_count": null,
   "metadata": {},
   "outputs": [],
   "source": []
  }
 ],
 "metadata": {
  "kernelspec": {
   "display_name": "Python 3",
   "language": "python",
   "name": "python3"
  },
  "language_info": {
   "codemirror_mode": {
    "name": "ipython",
    "version": 3
   },
   "file_extension": ".py",
   "mimetype": "text/x-python",
   "name": "python",
   "nbconvert_exporter": "python",
   "pygments_lexer": "ipython3",
   "version": "3.7.6"
  }
 },
 "nbformat": 4,
 "nbformat_minor": 2
}
