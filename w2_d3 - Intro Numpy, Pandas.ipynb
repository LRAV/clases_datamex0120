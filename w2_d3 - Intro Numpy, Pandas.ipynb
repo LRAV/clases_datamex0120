{
 "cells": [
  {
   "cell_type": "markdown",
   "metadata": {},
   "source": [
    "# Numpy"
   ]
  },
  {
   "cell_type": "code",
   "execution_count": 1,
   "metadata": {},
   "outputs": [],
   "source": [
    "import numpy as np"
   ]
  },
  {
   "cell_type": "code",
   "execution_count": 2,
   "metadata": {},
   "outputs": [
    {
     "data": {
      "text/plain": [
       "array([[0.01733484, 0.87489855, 0.66409092, 0.08008466],\n",
       "       [0.38574169, 0.85367326, 0.55649259, 0.11081625],\n",
       "       [0.18910638, 0.21608436, 0.47976771, 0.54687445],\n",
       "       [0.13002704, 0.97636184, 0.33887282, 0.22873085],\n",
       "       [0.75652062, 0.27855374, 0.068987  , 0.31648942],\n",
       "       [0.47703189, 0.41319131, 0.94953295, 0.28593424],\n",
       "       [0.82566561, 0.07674766, 0.54446454, 0.19239926],\n",
       "       [0.35370038, 0.47614875, 0.15385181, 0.79406025],\n",
       "       [0.16727522, 0.50411282, 0.64836588, 0.1742123 ],\n",
       "       [0.31731437, 0.39769779, 0.0334028 , 0.52873753]])"
      ]
     },
     "execution_count": 2,
     "metadata": {},
     "output_type": "execute_result"
    }
   ],
   "source": [
    "# matriz\n",
    "a=np.random.random((10,4))\n",
    "a"
   ]
  },
  {
   "cell_type": "code",
   "execution_count": 3,
   "metadata": {},
   "outputs": [
    {
     "data": {
      "text/plain": [
       "40"
      ]
     },
     "execution_count": 3,
     "metadata": {},
     "output_type": "execute_result"
    }
   ],
   "source": [
    "a.size"
   ]
  },
  {
   "cell_type": "code",
   "execution_count": 4,
   "metadata": {},
   "outputs": [
    {
     "data": {
      "text/plain": [
       "(10, 4)"
      ]
     },
     "execution_count": 4,
     "metadata": {},
     "output_type": "execute_result"
    }
   ],
   "source": [
    "a.shape"
   ]
  },
  {
   "cell_type": "code",
   "execution_count": 5,
   "metadata": {},
   "outputs": [
    {
     "data": {
      "text/plain": [
       "array([[[0.8180361 , 0.45600498],\n",
       "        [0.04471126, 0.34612086],\n",
       "        [0.30714511, 0.44638296]],\n",
       "\n",
       "       [[0.21723355, 0.14495298],\n",
       "        [0.1534135 , 0.57836215],\n",
       "        [0.68645639, 0.08419984]],\n",
       "\n",
       "       [[0.95556353, 0.72185678],\n",
       "        [0.35789369, 0.59625938],\n",
       "        [0.6629485 , 0.25928965]],\n",
       "\n",
       "       [[0.946139  , 0.16530205],\n",
       "        [0.54314783, 0.46087273],\n",
       "        [0.79653774, 0.15828406]],\n",
       "\n",
       "       [[0.09042659, 0.42157672],\n",
       "        [0.29883988, 0.25327702],\n",
       "        [0.65605426, 0.26425126]]])"
      ]
     },
     "execution_count": 5,
     "metadata": {},
     "output_type": "execute_result"
    }
   ],
   "source": [
    "# cubo\n",
    "b=np.random.random((5,3,2))\n",
    "b"
   ]
  },
  {
   "cell_type": "code",
   "execution_count": 7,
   "metadata": {},
   "outputs": [
    {
     "data": {
      "text/plain": [
       "(2, 3, 4, 5)"
      ]
     },
     "execution_count": 7,
     "metadata": {},
     "output_type": "execute_result"
    }
   ],
   "source": [
    "# tensor rango 4\n",
    "c=np.random.random((2,3,4,5))\n",
    "c.shape"
   ]
  },
  {
   "cell_type": "code",
   "execution_count": 9,
   "metadata": {},
   "outputs": [
    {
     "data": {
      "text/plain": [
       "numpy.ndarray"
      ]
     },
     "execution_count": 9,
     "metadata": {},
     "output_type": "execute_result"
    }
   ],
   "source": [
    "type(a[0])"
   ]
  },
  {
   "cell_type": "code",
   "execution_count": 11,
   "metadata": {},
   "outputs": [
    {
     "data": {
      "text/plain": [
       "array([[0.01733484, 0.87489855, 0.66409092, 0.08008466],\n",
       "       [0.38574169, 0.85367326, 0.55649259, 0.11081625],\n",
       "       [0.18910638, 0.21608436, 0.47976771, 0.54687445],\n",
       "       [0.13002704, 0.97636184, 0.33887282, 0.22873085],\n",
       "       [0.75652062, 0.27855374, 0.068987  , 0.31648942],\n",
       "       [0.47703189, 0.41319131, 0.94953295, 0.28593424],\n",
       "       [0.82566561, 0.07674766, 0.54446454, 0.19239926],\n",
       "       [0.35370038, 0.47614875, 0.15385181, 0.79406025],\n",
       "       [0.16727522, 0.50411282, 0.64836588, 0.1742123 ],\n",
       "       [0.31731437, 0.39769779, 0.0334028 , 0.52873753]])"
      ]
     },
     "execution_count": 11,
     "metadata": {},
     "output_type": "execute_result"
    }
   ],
   "source": [
    "a"
   ]
  },
  {
   "cell_type": "code",
   "execution_count": 10,
   "metadata": {},
   "outputs": [
    {
     "data": {
      "text/plain": [
       "array([0.01733484, 0.38574169, 0.18910638, 0.13002704, 0.75652062,\n",
       "       0.47703189, 0.82566561, 0.35370038, 0.16727522, 0.31731437])"
      ]
     },
     "execution_count": 10,
     "metadata": {},
     "output_type": "execute_result"
    }
   ],
   "source": [
    "a[:, 0]"
   ]
  },
  {
   "cell_type": "code",
   "execution_count": 12,
   "metadata": {},
   "outputs": [
    {
     "data": {
      "text/plain": [
       "0.06898700300815497"
      ]
     },
     "execution_count": 12,
     "metadata": {},
     "output_type": "execute_result"
    }
   ],
   "source": [
    "a[4,2]"
   ]
  },
  {
   "cell_type": "code",
   "execution_count": 13,
   "metadata": {},
   "outputs": [
    {
     "data": {
      "text/plain": [
       "array([[[0.89390951, 0.31186455, 0.47982635, 0.98359641, 0.79125905],\n",
       "        [0.91623549, 0.39573239, 0.81433373, 0.91374181, 0.81585122],\n",
       "        [0.75451558, 0.58885519, 0.64667176, 0.65330878, 0.69278229],\n",
       "        [0.09356   , 0.41268999, 0.12248687, 0.6972889 , 0.87776445]],\n",
       "\n",
       "       [[0.9564918 , 0.31607421, 0.96360239, 0.61695367, 0.32771823],\n",
       "        [0.32110885, 0.59432915, 0.1093376 , 0.92344875, 0.50796882],\n",
       "        [0.9426791 , 0.89869711, 0.39673523, 0.27731114, 0.57287862],\n",
       "        [0.58081385, 0.33051236, 0.52592781, 0.00888726, 0.77023635]],\n",
       "\n",
       "       [[0.43365704, 0.0688031 , 0.2894688 , 0.64358397, 0.45596058],\n",
       "        [0.183023  , 0.82854817, 0.67222816, 0.78330057, 0.73464812],\n",
       "        [0.39258773, 0.71910277, 0.59520887, 0.27487641, 0.50985739],\n",
       "        [0.48353033, 0.67787299, 0.59794252, 0.03005514, 0.45791013]]])"
      ]
     },
     "execution_count": 13,
     "metadata": {},
     "output_type": "execute_result"
    }
   ],
   "source": [
    "c[0]"
   ]
  },
  {
   "cell_type": "code",
   "execution_count": 14,
   "metadata": {},
   "outputs": [
    {
     "data": {
      "text/plain": [
       "array([[0.9564918 , 0.31607421, 0.96360239, 0.61695367, 0.32771823],\n",
       "       [0.32110885, 0.59432915, 0.1093376 , 0.92344875, 0.50796882],\n",
       "       [0.9426791 , 0.89869711, 0.39673523, 0.27731114, 0.57287862],\n",
       "       [0.58081385, 0.33051236, 0.52592781, 0.00888726, 0.77023635]])"
      ]
     },
     "execution_count": 14,
     "metadata": {},
     "output_type": "execute_result"
    }
   ],
   "source": [
    "c[0, 1]"
   ]
  },
  {
   "cell_type": "code",
   "execution_count": 15,
   "metadata": {},
   "outputs": [
    {
     "data": {
      "text/plain": [
       "array([0.32110885, 0.59432915, 0.1093376 , 0.92344875, 0.50796882])"
      ]
     },
     "execution_count": 15,
     "metadata": {},
     "output_type": "execute_result"
    }
   ],
   "source": [
    "c[0, 1, 1]"
   ]
  },
  {
   "cell_type": "code",
   "execution_count": 16,
   "metadata": {},
   "outputs": [
    {
     "data": {
      "text/plain": [
       "0.32110885294305835"
      ]
     },
     "execution_count": 16,
     "metadata": {},
     "output_type": "execute_result"
    }
   ],
   "source": [
    "c[0, 1, 1, 0]"
   ]
  },
  {
   "cell_type": "code",
   "execution_count": 17,
   "metadata": {},
   "outputs": [
    {
     "data": {
      "text/plain": [
       "array([0.9564918 , 0.32110885, 0.9426791 , 0.58081385])"
      ]
     },
     "execution_count": 17,
     "metadata": {},
     "output_type": "execute_result"
    }
   ],
   "source": [
    "c[0, 1, :, 0]"
   ]
  },
  {
   "cell_type": "code",
   "execution_count": 23,
   "metadata": {},
   "outputs": [
    {
     "data": {
      "text/plain": [
       "(3, 3)"
      ]
     },
     "execution_count": 23,
     "metadata": {},
     "output_type": "execute_result"
    }
   ],
   "source": [
    "# de listas a arrays\n",
    "lst_lst=[[1,2,3], [4,5,6], [7,8,9]]\n",
    "d=np.array(lst_lst)\n",
    "d.shape"
   ]
  },
  {
   "cell_type": "code",
   "execution_count": 25,
   "metadata": {},
   "outputs": [
    {
     "data": {
      "text/plain": [
       "array([[0.01733484, 0.87489855, 0.66409092, 0.08008466],\n",
       "       [0.38574169, 0.85367326, 0.55649259, 0.11081625],\n",
       "       [0.18910638, 0.21608436, 0.47976771, 0.54687445],\n",
       "       [0.13002704, 0.97636184, 0.33887282, 0.22873085],\n",
       "       [0.75652062, 0.27855374, 0.068987  , 0.31648942],\n",
       "       [0.47703189, 0.41319131, 0.94953295, 0.28593424],\n",
       "       [0.82566561, 0.07674766, 0.54446454, 0.19239926],\n",
       "       [0.35370038, 0.47614875, 0.15385181, 0.79406025],\n",
       "       [0.16727522, 0.50411282, 0.64836588, 0.1742123 ],\n",
       "       [0.31731437, 0.39769779, 0.0334028 , 0.52873753]])"
      ]
     },
     "execution_count": 25,
     "metadata": {},
     "output_type": "execute_result"
    }
   ],
   "source": [
    "a"
   ]
  },
  {
   "cell_type": "code",
   "execution_count": 24,
   "metadata": {},
   "outputs": [
    {
     "data": {
      "text/plain": [
       "16.383356352932523"
      ]
     },
     "execution_count": 24,
     "metadata": {},
     "output_type": "execute_result"
    }
   ],
   "source": [
    "# funciones matematicas\n",
    "np.sum(a)"
   ]
  },
  {
   "cell_type": "code",
   "execution_count": 31,
   "metadata": {},
   "outputs": [
    {
     "data": {
      "text/plain": [
       "16.383356352932523"
      ]
     },
     "execution_count": 31,
     "metadata": {},
     "output_type": "execute_result"
    }
   ],
   "source": [
    "s=np.sum(a, axis=0)\n",
    "np.sum(s, axis=0)"
   ]
  },
  {
   "cell_type": "code",
   "execution_count": 26,
   "metadata": {},
   "outputs": [
    {
     "data": {
      "text/plain": [
       "array([3.61971805, 5.06747007, 4.43782903, 3.2583392 ])"
      ]
     },
     "execution_count": 26,
     "metadata": {},
     "output_type": "execute_result"
    }
   ],
   "source": [
    "np.sum(a, axis=0)"
   ]
  },
  {
   "cell_type": "code",
   "execution_count": 27,
   "metadata": {},
   "outputs": [
    {
     "data": {
      "text/plain": [
       "array([1.63640898, 1.9067238 , 1.43183291, 1.67399255, 1.42055077,\n",
       "       2.12569039, 1.63927706, 1.77776119, 1.49396622, 1.27715249])"
      ]
     },
     "execution_count": 27,
     "metadata": {},
     "output_type": "execute_result"
    }
   ],
   "source": [
    "np.sum(a, axis=1)"
   ]
  },
  {
   "cell_type": "code",
   "execution_count": 28,
   "metadata": {},
   "outputs": [
    {
     "ename": "AxisError",
     "evalue": "axis 2 is out of bounds for array of dimension 2",
     "output_type": "error",
     "traceback": [
      "\u001b[0;31m---------------------------------------------------------------------------\u001b[0m",
      "\u001b[0;31mAxisError\u001b[0m                                 Traceback (most recent call last)",
      "\u001b[0;32m<ipython-input-28-2418335409e8>\u001b[0m in \u001b[0;36m<module>\u001b[0;34m\u001b[0m\n\u001b[0;32m----> 1\u001b[0;31m \u001b[0mnp\u001b[0m\u001b[0;34m.\u001b[0m\u001b[0msum\u001b[0m\u001b[0;34m(\u001b[0m\u001b[0ma\u001b[0m\u001b[0;34m,\u001b[0m \u001b[0maxis\u001b[0m\u001b[0;34m=\u001b[0m\u001b[0;36m2\u001b[0m\u001b[0;34m)\u001b[0m\u001b[0;34m\u001b[0m\u001b[0;34m\u001b[0m\u001b[0m\n\u001b[0m",
      "\u001b[0;32m<__array_function__ internals>\u001b[0m in \u001b[0;36msum\u001b[0;34m(*args, **kwargs)\u001b[0m\n",
      "\u001b[0;32m~/Library/Python/3.7/lib/python/site-packages/numpy/core/fromnumeric.py\u001b[0m in \u001b[0;36msum\u001b[0;34m(a, axis, dtype, out, keepdims, initial, where)\u001b[0m\n\u001b[1;32m   2180\u001b[0m \u001b[0;34m\u001b[0m\u001b[0m\n\u001b[1;32m   2181\u001b[0m     return _wrapreduction(a, np.add, 'sum', axis, dtype, out, keepdims=keepdims,\n\u001b[0;32m-> 2182\u001b[0;31m                           initial=initial, where=where)\n\u001b[0m\u001b[1;32m   2183\u001b[0m \u001b[0;34m\u001b[0m\u001b[0m\n\u001b[1;32m   2184\u001b[0m \u001b[0;34m\u001b[0m\u001b[0m\n",
      "\u001b[0;32m~/Library/Python/3.7/lib/python/site-packages/numpy/core/fromnumeric.py\u001b[0m in \u001b[0;36m_wrapreduction\u001b[0;34m(obj, ufunc, method, axis, dtype, out, **kwargs)\u001b[0m\n\u001b[1;32m     88\u001b[0m                 \u001b[0;32mreturn\u001b[0m \u001b[0mreduction\u001b[0m\u001b[0;34m(\u001b[0m\u001b[0maxis\u001b[0m\u001b[0;34m=\u001b[0m\u001b[0maxis\u001b[0m\u001b[0;34m,\u001b[0m \u001b[0mout\u001b[0m\u001b[0;34m=\u001b[0m\u001b[0mout\u001b[0m\u001b[0;34m,\u001b[0m \u001b[0;34m**\u001b[0m\u001b[0mpasskwargs\u001b[0m\u001b[0;34m)\u001b[0m\u001b[0;34m\u001b[0m\u001b[0;34m\u001b[0m\u001b[0m\n\u001b[1;32m     89\u001b[0m \u001b[0;34m\u001b[0m\u001b[0m\n\u001b[0;32m---> 90\u001b[0;31m     \u001b[0;32mreturn\u001b[0m \u001b[0mufunc\u001b[0m\u001b[0;34m.\u001b[0m\u001b[0mreduce\u001b[0m\u001b[0;34m(\u001b[0m\u001b[0mobj\u001b[0m\u001b[0;34m,\u001b[0m \u001b[0maxis\u001b[0m\u001b[0;34m,\u001b[0m \u001b[0mdtype\u001b[0m\u001b[0;34m,\u001b[0m \u001b[0mout\u001b[0m\u001b[0;34m,\u001b[0m \u001b[0;34m**\u001b[0m\u001b[0mpasskwargs\u001b[0m\u001b[0;34m)\u001b[0m\u001b[0;34m\u001b[0m\u001b[0;34m\u001b[0m\u001b[0m\n\u001b[0m\u001b[1;32m     91\u001b[0m \u001b[0;34m\u001b[0m\u001b[0m\n\u001b[1;32m     92\u001b[0m \u001b[0;34m\u001b[0m\u001b[0m\n",
      "\u001b[0;31mAxisError\u001b[0m: axis 2 is out of bounds for array of dimension 2"
     ]
    }
   ],
   "source": [
    "np.sum(a, axis=2)"
   ]
  },
  {
   "cell_type": "code",
   "execution_count": 32,
   "metadata": {},
   "outputs": [
    {
     "data": {
      "text/plain": [
       "array([[[0.8180361 , 0.45600498],\n",
       "        [0.04471126, 0.34612086],\n",
       "        [0.30714511, 0.44638296]],\n",
       "\n",
       "       [[0.21723355, 0.14495298],\n",
       "        [0.1534135 , 0.57836215],\n",
       "        [0.68645639, 0.08419984]],\n",
       "\n",
       "       [[0.95556353, 0.72185678],\n",
       "        [0.35789369, 0.59625938],\n",
       "        [0.6629485 , 0.25928965]],\n",
       "\n",
       "       [[0.946139  , 0.16530205],\n",
       "        [0.54314783, 0.46087273],\n",
       "        [0.79653774, 0.15828406]],\n",
       "\n",
       "       [[0.09042659, 0.42157672],\n",
       "        [0.29883988, 0.25327702],\n",
       "        [0.65605426, 0.26425126]]])"
      ]
     },
     "execution_count": 32,
     "metadata": {},
     "output_type": "execute_result"
    }
   ],
   "source": [
    "b"
   ]
  },
  {
   "cell_type": "code",
   "execution_count": 33,
   "metadata": {},
   "outputs": [
    {
     "data": {
      "text/plain": [
       "4.283019681095566"
      ]
     },
     "execution_count": 33,
     "metadata": {},
     "output_type": "execute_result"
    }
   ],
   "source": [
    "np.sum(b[:2])"
   ]
  },
  {
   "cell_type": "code",
   "execution_count": 34,
   "metadata": {},
   "outputs": [
    {
     "data": {
      "text/plain": [
       "0.4095839088233131"
      ]
     },
     "execution_count": 34,
     "metadata": {},
     "output_type": "execute_result"
    }
   ],
   "source": [
    "np.mean(a)"
   ]
  },
  {
   "cell_type": "code",
   "execution_count": 35,
   "metadata": {},
   "outputs": [
    {
     "data": {
      "text/plain": [
       "array([0.3619718 , 0.50674701, 0.4437829 , 0.32583392])"
      ]
     },
     "execution_count": 35,
     "metadata": {},
     "output_type": "execute_result"
    }
   ],
   "source": [
    "np.mean(a, axis=0)"
   ]
  },
  {
   "cell_type": "code",
   "execution_count": 36,
   "metadata": {},
   "outputs": [
    {
     "data": {
      "text/plain": [
       "array([0.40910224, 0.47668095, 0.35795823, 0.41849814, 0.35513769,\n",
       "       0.5314226 , 0.40981927, 0.4444403 , 0.37349155, 0.31928812])"
      ]
     },
     "execution_count": 36,
     "metadata": {},
     "output_type": "execute_result"
    }
   ],
   "source": [
    "np.mean(a, axis=1)"
   ]
  },
  {
   "cell_type": "code",
   "execution_count": 37,
   "metadata": {},
   "outputs": [
    {
     "data": {
      "text/plain": [
       "array([0.40307653, 1.72857181, 1.22058352, 0.19090091])"
      ]
     },
     "execution_count": 37,
     "metadata": {},
     "output_type": "execute_result"
    }
   ],
   "source": [
    "np.add(a[0], a[1])"
   ]
  },
  {
   "cell_type": "code",
   "execution_count": 38,
   "metadata": {},
   "outputs": [
    {
     "data": {
      "text/plain": [
       "array([[1.03526965, 0.60095796],\n",
       "       [0.19812476, 0.92448301],\n",
       "       [0.9936015 , 0.5305828 ]])"
      ]
     },
     "execution_count": 38,
     "metadata": {},
     "output_type": "execute_result"
    }
   ],
   "source": [
    "np.add(b[0], b[1])"
   ]
  },
  {
   "cell_type": "code",
   "execution_count": 39,
   "metadata": {},
   "outputs": [
    {
     "data": {
      "text/plain": [
       "array([-0.36840685,  0.02122529,  0.10759833, -0.03073158])"
      ]
     },
     "execution_count": 39,
     "metadata": {},
     "output_type": "execute_result"
    }
   ],
   "source": [
    "np.subtract(a[0], a[1])"
   ]
  },
  {
   "cell_type": "code",
   "execution_count": 40,
   "metadata": {},
   "outputs": [
    {
     "data": {
      "text/plain": [
       "array([0.00668677, 0.7468775 , 0.36956168, 0.00887468])"
      ]
     },
     "execution_count": 40,
     "metadata": {},
     "output_type": "execute_result"
    }
   ],
   "source": [
    "np.multiply(a[0], a[1])"
   ]
  },
  {
   "cell_type": "code",
   "execution_count": 42,
   "metadata": {},
   "outputs": [
    {
     "data": {
      "text/plain": [
       "array([0.2503816 , 0.28626482, 0.27825493, 0.21628505])"
      ]
     },
     "execution_count": 42,
     "metadata": {},
     "output_type": "execute_result"
    }
   ],
   "source": [
    "np.std(a, axis=0)"
   ]
  },
  {
   "cell_type": "code",
   "execution_count": 43,
   "metadata": {},
   "outputs": [
    {
     "data": {
      "text/plain": [
       "array([0.36868676, 0.26954593, 0.15745319, 0.3304464 , 0.25017457,\n",
       "       0.25100687, 0.29549352, 0.23233324, 0.20907846, 0.18148791])"
      ]
     },
     "execution_count": 43,
     "metadata": {},
     "output_type": "execute_result"
    }
   ],
   "source": [
    "np.std(a, axis=1)"
   ]
  },
  {
   "cell_type": "code",
   "execution_count": 44,
   "metadata": {},
   "outputs": [
    {
     "data": {
      "text/plain": [
       "array([ 0.01733484,  0.89223339,  1.55632431,  1.63640898,  2.02215067,\n",
       "        2.87582393,  3.43231652,  3.54313277,  3.73223916,  3.94832352,\n",
       "        4.42809123,  4.97496568,  5.10499272,  6.08135456,  6.42022738,\n",
       "        6.64895823,  7.40547884,  7.68403258,  7.75301959,  8.069509  ,\n",
       "        8.54654089,  8.9597322 ,  9.90926515, 10.19519939, 11.020865  ,\n",
       "       11.09761266, 11.6420772 , 11.83447646, 12.18817684, 12.66432559,\n",
       "       12.81817739, 13.61223764, 13.77951287, 14.28362568, 14.93199156,\n",
       "       15.10620386, 15.42351823, 15.82121602, 15.85461882, 16.38335635])"
      ]
     },
     "execution_count": 44,
     "metadata": {},
     "output_type": "execute_result"
    }
   ],
   "source": [
    "np.cumsum(a)"
   ]
  },
  {
   "cell_type": "code",
   "execution_count": 46,
   "metadata": {},
   "outputs": [
    {
     "data": {
      "text/plain": [
       "array([1.73348381e-02, 1.51662248e-02, 1.00717522e-02, 8.06592893e-04,\n",
       "       3.11136508e-04, 2.65608917e-04, 1.47809395e-04, 1.63796828e-05,\n",
       "       3.09750260e-06, 6.69321874e-07, 3.21119026e-07, 1.75611789e-07,\n",
       "       2.28342813e-08, 2.22945208e-08, 7.55500711e-09, 1.72806320e-09,\n",
       "       1.30731544e-09, 3.64157604e-10, 2.51221417e-11, 7.95089197e-12,\n",
       "       3.79282904e-12, 1.56716398e-12, 1.48807384e-12, 4.25491265e-13,\n",
       "       3.51313505e-13, 2.69624885e-14, 1.46801189e-14, 2.82444396e-15,\n",
       "       9.99006911e-16, 4.75675891e-16, 7.31835950e-17, 5.81121838e-17,\n",
       "       9.72072841e-18, 4.90034380e-18, 3.17721572e-18, 5.53510043e-19,\n",
       "       1.75636690e-19, 6.98503238e-20, 2.33319669e-21, 1.23364865e-21])"
      ]
     },
     "execution_count": 46,
     "metadata": {},
     "output_type": "execute_result"
    }
   ],
   "source": [
    "np.cumprod(a)"
   ]
  },
  {
   "cell_type": "code",
   "execution_count": 49,
   "metadata": {},
   "outputs": [
    {
     "data": {
      "text/plain": [
       "array([0.8180361 , 0.45600498, 0.04471126, 0.34612086, 0.30714511,\n",
       "       0.44638296, 0.21723355, 0.14495298, 0.1534135 , 0.57836215,\n",
       "       0.68645639, 0.08419984, 0.95556353, 0.72185678, 0.35789369,\n",
       "       0.59625938, 0.6629485 , 0.25928965, 0.946139  , 0.16530205,\n",
       "       0.54314783, 0.46087273, 0.79653774, 0.15828406, 0.09042659,\n",
       "       0.42157672, 0.29883988, 0.25327702, 0.65605426, 0.26425126])"
      ]
     },
     "execution_count": 49,
     "metadata": {},
     "output_type": "execute_result"
    }
   ],
   "source": [
    "b.flatten()"
   ]
  },
  {
   "cell_type": "code",
   "execution_count": 53,
   "metadata": {},
   "outputs": [
    {
     "data": {
      "text/plain": [
       "0.955563528278025"
      ]
     },
     "execution_count": 53,
     "metadata": {},
     "output_type": "execute_result"
    }
   ],
   "source": [
    "b.max()"
   ]
  },
  {
   "cell_type": "code",
   "execution_count": 54,
   "metadata": {},
   "outputs": [
    {
     "data": {
      "text/plain": [
       "0.0447112597482312"
      ]
     },
     "execution_count": 54,
     "metadata": {},
     "output_type": "execute_result"
    }
   ],
   "source": [
    "b.min()"
   ]
  },
  {
   "cell_type": "code",
   "execution_count": 55,
   "metadata": {},
   "outputs": [
    {
     "data": {
      "text/plain": [
       "(5, 3, 2)"
      ]
     },
     "execution_count": 55,
     "metadata": {},
     "output_type": "execute_result"
    }
   ],
   "source": [
    "b.shape"
   ]
  },
  {
   "cell_type": "code",
   "execution_count": 60,
   "metadata": {},
   "outputs": [
    {
     "data": {
      "text/plain": [
       "array([[[[[[0.8180361 , 0.45600498, 0.04471126, 0.34612086,\n",
       "            0.30714511, 0.44638296, 0.21723355, 0.14495298,\n",
       "            0.1534135 , 0.57836215, 0.68645639, 0.08419984,\n",
       "            0.95556353, 0.72185678, 0.35789369]]],\n",
       "\n",
       "\n",
       "         [[[0.59625938, 0.6629485 , 0.25928965, 0.946139  ,\n",
       "            0.16530205, 0.54314783, 0.46087273, 0.79653774,\n",
       "            0.15828406, 0.09042659, 0.42157672, 0.29883988,\n",
       "            0.25327702, 0.65605426, 0.26425126]]]]]])"
      ]
     },
     "execution_count": 60,
     "metadata": {},
     "output_type": "execute_result"
    }
   ],
   "source": [
    "b.reshape((1,1,2,1,1,15))"
   ]
  },
  {
   "cell_type": "code",
   "execution_count": 62,
   "metadata": {},
   "outputs": [
    {
     "data": {
      "text/plain": [
       "list"
      ]
     },
     "execution_count": 62,
     "metadata": {},
     "output_type": "execute_result"
    }
   ],
   "source": [
    "type(a.tolist())"
   ]
  },
  {
   "cell_type": "code",
   "execution_count": 64,
   "metadata": {},
   "outputs": [
    {
     "data": {
      "text/plain": [
       "array([[0.01733484, 0.38574169, 0.18910638, 0.13002704, 0.75652062,\n",
       "        0.47703189, 0.82566561, 0.35370038, 0.16727522, 0.31731437],\n",
       "       [0.87489855, 0.85367326, 0.21608436, 0.97636184, 0.27855374,\n",
       "        0.41319131, 0.07674766, 0.47614875, 0.50411282, 0.39769779],\n",
       "       [0.66409092, 0.55649259, 0.47976771, 0.33887282, 0.068987  ,\n",
       "        0.94953295, 0.54446454, 0.15385181, 0.64836588, 0.0334028 ],\n",
       "       [0.08008466, 0.11081625, 0.54687445, 0.22873085, 0.31648942,\n",
       "        0.28593424, 0.19239926, 0.79406025, 0.1742123 , 0.52873753]])"
      ]
     },
     "execution_count": 64,
     "metadata": {},
     "output_type": "execute_result"
    }
   ],
   "source": [
    "a.transpose()"
   ]
  },
  {
   "cell_type": "code",
   "execution_count": 65,
   "metadata": {},
   "outputs": [
    {
     "data": {
      "text/plain": [
       "array([[0.01733484, 0.38574169, 0.18910638, 0.13002704, 0.75652062,\n",
       "        0.47703189, 0.82566561, 0.35370038, 0.16727522, 0.31731437],\n",
       "       [0.87489855, 0.85367326, 0.21608436, 0.97636184, 0.27855374,\n",
       "        0.41319131, 0.07674766, 0.47614875, 0.50411282, 0.39769779],\n",
       "       [0.66409092, 0.55649259, 0.47976771, 0.33887282, 0.068987  ,\n",
       "        0.94953295, 0.54446454, 0.15385181, 0.64836588, 0.0334028 ],\n",
       "       [0.08008466, 0.11081625, 0.54687445, 0.22873085, 0.31648942,\n",
       "        0.28593424, 0.19239926, 0.79406025, 0.1742123 , 0.52873753]])"
      ]
     },
     "execution_count": 65,
     "metadata": {},
     "output_type": "execute_result"
    }
   ],
   "source": [
    "a.T"
   ]
  },
  {
   "cell_type": "code",
   "execution_count": 67,
   "metadata": {},
   "outputs": [
    {
     "data": {
      "text/plain": [
       "1.2131782781955387"
      ]
     },
     "execution_count": 67,
     "metadata": {},
     "output_type": "execute_result"
    }
   ],
   "source": [
    "np.dot(a[0], a[0].T)"
   ]
  },
  {
   "cell_type": "code",
   "execution_count": 70,
   "metadata": {},
   "outputs": [
    {
     "data": {
      "text/plain": [
       "array([[1.21317828, 1.13200063, 0.55473566, 1.09983175, 0.32798002,\n",
       "        1.02324491, 0.45844138, 0.58847683, 0.88847289, 0.41797208],\n",
       "       [1.13200063, 1.19951894, 0.58500141, 1.09757815, 0.60307835,\n",
       "        1.09683568, 0.70832252, 0.71652461, 0.87498902, 0.53908648],\n",
       "       [0.55473566, 0.58500141, 0.6117024 , 0.52323276, 0.4094317 ,\n",
       "        0.79141934, 0.53915735, 0.67783969, 0.54690098, 0.45112108],\n",
       "       [1.09983175, 1.09757815, 0.52323276, 1.13734206, 0.46610609,\n",
       "        0.85262416, 0.41080422, 0.74464635, 0.77350812, 0.56181428],\n",
       "       [0.32798002, 0.60307835, 0.4094317 , 0.46610609, 0.75484039,\n",
       "        0.63198104, 0.74446471, 0.66214009, 0.36683483, 0.52047926],\n",
       "       [1.02324491, 1.09683568, 0.79141934, 0.85262416, 0.63198104,\n",
       "        1.3816577 , 0.99758085, 0.73860326, 0.95354868, 0.49859557],\n",
       "       [0.45844138, 0.70832252, 0.53915735, 0.41080422, 0.74446471,\n",
       "        0.99758085, 1.02107301, 0.565125  , 0.56333342, 0.41243329],\n",
       "       [0.58847683, 0.71652461, 0.67783969, 0.74464635, 0.66214009,\n",
       "        0.73860326, 0.565125  , 1.00602365, 0.53728532, 0.72658606],\n",
       "       [0.88847289, 0.87498902, 0.54690098, 0.77350812, 0.36683483,\n",
       "        0.95354868, 0.56333342, 0.53728532, 0.73283897, 0.3673332 ],\n",
       "       [0.41797208, 0.53908648, 0.45112108, 0.56181428, 0.52047926,\n",
       "        0.49859557, 0.41243329, 0.72658606, 0.3673332 , 0.53953106]])"
      ]
     },
     "execution_count": 70,
     "metadata": {},
     "output_type": "execute_result"
    }
   ],
   "source": [
    "np.matmul(a, a.T)"
   ]
  },
  {
   "cell_type": "code",
   "execution_count": 73,
   "metadata": {},
   "outputs": [
    {
     "data": {
      "text/plain": [
       "0.2686702121380383"
      ]
     },
     "execution_count": 73,
     "metadata": {},
     "output_type": "execute_result"
    }
   ],
   "source": [
    "a.var()**0.5"
   ]
  },
  {
   "cell_type": "code",
   "execution_count": 74,
   "metadata": {},
   "outputs": [
    {
     "data": {
      "text/plain": [
       "0.2686702121380383"
      ]
     },
     "execution_count": 74,
     "metadata": {},
     "output_type": "execute_result"
    }
   ],
   "source": [
    "a.std()"
   ]
  },
  {
   "cell_type": "code",
   "execution_count": 79,
   "metadata": {},
   "outputs": [
    {
     "data": {
      "text/plain": [
       "(4, 4)"
      ]
     },
     "execution_count": 79,
     "metadata": {},
     "output_type": "execute_result"
    }
   ],
   "source": [
    "a[:4, :].shape"
   ]
  },
  {
   "cell_type": "code",
   "execution_count": 80,
   "metadata": {},
   "outputs": [
    {
     "data": {
      "text/plain": [
       "-0.07688120645073505"
      ]
     },
     "execution_count": 80,
     "metadata": {},
     "output_type": "execute_result"
    }
   ],
   "source": [
    "np.linalg.det(a[:4, :])"
   ]
  },
  {
   "cell_type": "code",
   "execution_count": 81,
   "metadata": {},
   "outputs": [],
   "source": [
    "# https://docs.scipy.org/doc/numpy/reference/ufuncs.html"
   ]
  },
  {
   "cell_type": "code",
   "execution_count": 84,
   "metadata": {},
   "outputs": [
    {
     "data": {
      "text/plain": [
       "inf"
      ]
     },
     "execution_count": 84,
     "metadata": {},
     "output_type": "execute_result"
    }
   ],
   "source": [
    "np.inf"
   ]
  },
  {
   "cell_type": "markdown",
   "metadata": {},
   "source": [
    "# Pandas"
   ]
  },
  {
   "cell_type": "code",
   "execution_count": null,
   "metadata": {},
   "outputs": [],
   "source": []
  },
  {
   "cell_type": "code",
   "execution_count": null,
   "metadata": {},
   "outputs": [],
   "source": []
  },
  {
   "cell_type": "code",
   "execution_count": null,
   "metadata": {},
   "outputs": [],
   "source": []
  }
 ],
 "metadata": {
  "kernelspec": {
   "display_name": "Python 3",
   "language": "python",
   "name": "python3"
  },
  "language_info": {
   "codemirror_mode": {
    "name": "ipython",
    "version": 3
   },
   "file_extension": ".py",
   "mimetype": "text/x-python",
   "name": "python",
   "nbconvert_exporter": "python",
   "pygments_lexer": "ipython3",
   "version": "3.7.6"
  }
 },
 "nbformat": 4,
 "nbformat_minor": 2
}
