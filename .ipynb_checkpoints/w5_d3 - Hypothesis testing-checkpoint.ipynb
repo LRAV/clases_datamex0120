{
 "cells": [
  {
   "cell_type": "code",
   "execution_count": 2,
   "metadata": {},
   "outputs": [
    {
     "data": {
      "text/plain": [
       "-3.750000000000003"
      ]
     },
     "execution_count": 2,
     "metadata": {},
     "output_type": "execute_result"
    }
   ],
   "source": [
    "# ejemplo\n",
    "\n",
    "import numpy as np\n",
    "from scipy.stats import t\n",
    "\n",
    "mu=5.7\n",
    "\n",
    "mu_hat=5.1\n",
    "std_hat=1.6\n",
    "\n",
    "n=100\n",
    "\n",
    "t_test=(mu_hat-mu)/(std_hat/np.sqrt(n))\n",
    "t_test"
   ]
  },
  {
   "cell_type": "code",
   "execution_count": 4,
   "metadata": {},
   "outputs": [
    {
     "data": {
      "text/plain": [
       "0.0001489332089038242"
      ]
     },
     "execution_count": 4,
     "metadata": {},
     "output_type": "execute_result"
    }
   ],
   "source": [
    "rv=t(df=99)\n",
    "p_value=rv.cdf(t_test)\n",
    "p_value"
   ]
  },
  {
   "cell_type": "code",
   "execution_count": 14,
   "metadata": {},
   "outputs": [
    {
     "data": {
      "text/plain": [
       "-3.955479260323736"
      ]
     },
     "execution_count": 14,
     "metadata": {},
     "output_type": "execute_result"
    }
   ],
   "source": [
    "# lo mismo\n",
    "\n",
    "from scipy.stats import ttest_1samp\n",
    "\n",
    "pacientes=np.random.normal(5.1, 1.6, 100)\n",
    "\n",
    "test=ttest_1samp(pacientes, 5.7)\n",
    "test.statistic"
   ]
  },
  {
   "cell_type": "code",
   "execution_count": 15,
   "metadata": {},
   "outputs": [
    {
     "data": {
      "text/plain": [
       "0.00014364295690354745"
      ]
     },
     "execution_count": 15,
     "metadata": {},
     "output_type": "execute_result"
    }
   ],
   "source": [
    "test.pvalue"
   ]
  },
  {
   "cell_type": "code",
   "execution_count": 16,
   "metadata": {},
   "outputs": [
    {
     "data": {
      "text/plain": [
       "1.0000000000000009"
      ]
     },
     "execution_count": 16,
     "metadata": {},
     "output_type": "execute_result"
    }
   ],
   "source": [
    "# otro ejemplo\n",
    "\n",
    "# H0:mu<=1.7   ,   H1:mu>1.7\n",
    "# 100 individuos, mu_hat=1.72, std_hat=0.2\n",
    "\n",
    "t_test=(1.72-1.7)/(0.2/np.sqrt(100))\n",
    "t_test"
   ]
  },
  {
   "cell_type": "code",
   "execution_count": 21,
   "metadata": {},
   "outputs": [
    {
     "data": {
      "text/plain": [
       "0.15987423706965065"
      ]
     },
     "execution_count": 21,
     "metadata": {},
     "output_type": "execute_result"
    }
   ],
   "source": [
    "rv=t(df=99)\n",
    "p_value=(1-rv.cdf(t_test))\n",
    "p_value"
   ]
  },
  {
   "cell_type": "code",
   "execution_count": 23,
   "metadata": {},
   "outputs": [
    {
     "name": "stdout",
     "output_type": "stream",
     "text": [
      "1.5513133339899503 0.12401764880674775\n"
     ]
    }
   ],
   "source": [
    "altura=np.random.normal(1.72, 0.2, 100)\n",
    "test=ttest_1samp(altura, 1.7)\n",
    "print (test.statistic, test.pvalue)"
   ]
  },
  {
   "cell_type": "code",
   "execution_count": 24,
   "metadata": {},
   "outputs": [
    {
     "name": "stdout",
     "output_type": "stream",
     "text": [
      "1.5513133339899505 0.1208266129230179\n"
     ]
    }
   ],
   "source": [
    "# z-test\n",
    "\n",
    "from statsmodels.stats import weightstats as w\n",
    "\n",
    "z_score, p_value=w.ztest(altura, value=1.7)\n",
    "print (z_score, p_value)"
   ]
  },
  {
   "cell_type": "code",
   "execution_count": null,
   "metadata": {},
   "outputs": [],
   "source": []
  },
  {
   "cell_type": "code",
   "execution_count": null,
   "metadata": {},
   "outputs": [],
   "source": []
  }
 ],
 "metadata": {
  "kernelspec": {
   "display_name": "Python 3",
   "language": "python",
   "name": "python3"
  },
  "language_info": {
   "codemirror_mode": {
    "name": "ipython",
    "version": 3
   },
   "file_extension": ".py",
   "mimetype": "text/x-python",
   "name": "python",
   "nbconvert_exporter": "python",
   "pygments_lexer": "ipython3",
   "version": "3.7.6"
  }
 },
 "nbformat": 4,
 "nbformat_minor": 2
}
